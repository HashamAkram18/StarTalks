{
 "cells": [
  {
   "cell_type": "markdown",
   "metadata": {},
   "source": [
    "# Exercise 1: Create a Jupyter Notebook\n",
    "\n",
    "\n"
   ]
  },
  {
   "cell_type": "markdown",
   "metadata": {},
   "source": [
    "# Exercise 2: Create markdown cell with title of the notebook\n",
    "\n",
    "# Data Science Tools and Ecosystem"
   ]
  },
  {
   "cell_type": "markdown",
   "metadata": {},
   "source": [
    "# Exercise 3 - Create a markdown cell for an introduction\n",
    "In this notebook, Data Science Tools and Ecosystem are summarized."
   ]
  },
  {
   "cell_type": "markdown",
   "metadata": {},
   "source": [
    "Objectives:\n",
    "- **Understand the capabilities and applications of R in Data Science.**\n",
    "\n",
    " - Explore the RStudio interface and its role in running R code.\n",
    " - Familiarize with popular R packages tailored for data science tasks.\n",
    " - Delve into data visualization in R, including usage of in-built plotting functions and the powerful ggplot package.\n",
    " - Learn advanced plotting features, such as adding titles and modifying axis names.\n",
    "- **Grasp the concept and importance of Distributed Version Control Systems (DVCS).**\n",
    "\n",
    " - Recognize the significance of version control in collaborative coding projects.\n",
    " - Identify popular DVCS tools, with an emphasis on Git.\n",
    " - Understand hosted version control platforms like GitHub, GitLab, and Bitbucket.\n",
    "- **Comprehend the utility of branches and repositories in DVCS.**\n",
    "\n",
    " - Learn about branching's role in isolating code changes and the process of merging these changes.\n",
    " - Grasp the concept of repositories, their structure, and their importance in code storage, issue tracking, and collaboration.\n",
    " - Understand the process of cloning repositories for local development and subsequent synchronization.\n",
    "\n"
   ]
  },
  {
   "cell_type": "markdown",
   "metadata": {},
   "source": [
    "# Exercise 4 - Create a markdown cell to list data science languages\n",
    "Some of the popular languages that Data Scientists use are:\n",
    "- Python\n",
    "- R\n",
    "- Julia \n",
    "- Scala\n",
    "\n"
   ]
  },
  {
   "cell_type": "markdown",
   "metadata": {},
   "source": [
    "# Exercise 5 - Create a markdown cell to list data science libraries\n",
    "Some of the commonly used libraries used by Data Scientists include:\n",
    "- NumPy: A library for numerical computations in Python. It provides support for large, multi-dimensional arrays and matrices, along with a collection\n",
    "- Pandas: A fast, powerful, flexible and easy to use open source data analysis / manipulation tool for structured data.\n",
    "- Seaborn: To manifest and understand the the data in graphical and visual lense. \n",
    "- Matplotlib: A library to plot different graph and shapes of data points for pattren and relations.\n",
    " \n"
   ]
  },
  {
   "cell_type": "markdown",
   "metadata": {},
   "source": [
    "# Exercise 6 - Create a markdown cell with a table of Data Science tools\n",
    "| Data Science Tools     |\n",
    "|------------------------|\n",
    "| Jupyter Notebook       |\n",
    "| RStudio                |\n",
    "| Apache Zeppelin        |\n",
    "| Tableau Software       |\n",
    "| Power BI                |\n",
    "| Google Colab            |\n",
    "| SAS Visual Analytics    |\n",
    "| IBM Watson Studio      |\n",
    "| Microsoft Azure ML      |\n",
    "| Amazon SageMaker        |\n",
    "| H2O.ai                  |\n",
    "\n",
    "\n",
    "\n"
   ]
  },
  {
   "cell_type": "markdown",
   "metadata": {},
   "source": [
    "# Exercise 7 - Create a markdown cell introducing arithmetic expression examples\n",
    "### Below are a few examples of evaluating arithmetic expressions in Python.\n",
    "- Addition \n",
    "- Multiplication\n",
    "- Division(Floating Point) \n",
    "- Subtraction \n",
    "- Division (Integer or Floor Division) \n",
    "- Modulus (Remainder after Division)\n",
    "- Exponentiation"
   ]
  },
  {
   "cell_type": "markdown",
   "metadata": {},
   "source": [
    "# Exercise 8 - Create a code cell to multiply and add numbers"
   ]
  },
  {
   "cell_type": "code",
   "execution_count": 2,
   "metadata": {},
   "outputs": [
    {
     "data": {
      "text/plain": [
       "17.0"
      ]
     },
     "execution_count": 2,
     "metadata": {},
     "output_type": "execute_result"
    }
   ],
   "source": [
    "# Exercise 8 - Create a code cell to multiply and add numbers\n",
    "(3*4)+5.\n",
    "# Code cell to multiply and add numbers (3*4)+5"
   ]
  },
  {
   "cell_type": "markdown",
   "metadata": {},
   "source": [
    "# Exercise 9 - Create a code cell to convert minutes to hours\n",
    "In this code cell write an expression that converts 200 minutes into hours.\n",
    "python\n",
    "```\n",
    "minutes = 200\n",
    "hours = minutes / 60\n",
    "print(f\"There are {hours} hours in 200 minutes.\")\n",
    "```\n",
    "This code will output: \"There are 3.333333333333334 hours in 2\n"
   ]
  },
  {
   "cell_type": "code",
   "execution_count": 3,
   "metadata": {},
   "outputs": [
    {
     "name": "stdout",
     "output_type": "stream",
     "text": [
      "There are 3.3333333333333335 hours in 200 minutes.\n"
     ]
    }
   ],
   "source": [
    "minutes = 200\n",
    "hours = minutes / 60\n",
    "print(f\"There are {hours} hours in 200 minutes.\")"
   ]
  },
  {
   "cell_type": "markdown",
   "metadata": {},
   "source": [
    "# Exercise 11 - Create a markdown cell to indicate the Author's name\n",
    "## Author \n",
    "Hasham Akram"
   ]
  },
  {
   "cell_type": "markdown",
   "metadata": {},
   "source": [
    "# Exercise 12 - Share your notebook through GitHub"
   ]
  },
  {
   "cell_type": "markdown",
   "metadata": {},
   "source": []
  }
 ],
 "metadata": {
  "kernelspec": {
   "display_name": "Python 3",
   "language": "python",
   "name": "python3"
  },
  "language_info": {
   "codemirror_mode": {
    "name": "ipython",
    "version": 3
   },
   "file_extension": ".py",
   "mimetype": "text/x-python",
   "name": "python",
   "nbconvert_exporter": "python",
   "pygments_lexer": "ipython3",
   "version": "3.11.0"
  }
 },
 "nbformat": 4,
 "nbformat_minor": 2
}
